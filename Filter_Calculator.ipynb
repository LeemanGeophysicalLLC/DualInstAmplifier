{
 "metadata": {
  "name": "",
  "signature": "sha256:89090e3f5ed18b33473c524b1499c254dc5e1539c1b8c16d3e74e079f3bc92b9"
 },
 "nbformat": 3,
 "nbformat_minor": 0,
 "worksheets": [
  {
   "cells": [
    {
     "cell_type": "code",
     "collapsed": false,
     "input": [
      "import numpy as np\n",
      "\n",
      "def FreqDiff(R,Cd,Cc):\n",
      "    if Cd<10*Cc:\n",
      "        print \"Warning: Sub-optimal capacitance ratio\"\n",
      "    return 1./(2*np.pi*R*(2*Cd+Cc))\n",
      "\n",
      "def FreqCm(R,Cd,Cc):\n",
      "    if Cd<10*Cc:\n",
      "        print \"Warning: Sub-optimal capacitance ratio\"\n",
      "    return 1./(2*np.pi*R*Cc)"
     ],
     "language": "python",
     "metadata": {},
     "outputs": [],
     "prompt_number": 3
    },
    {
     "cell_type": "code",
     "collapsed": false,
     "input": [
      "R = 15.15\n",
      "Cd = 1.e-6\n",
      "Cc = 0.1e-6\n",
      "\n",
      "print FreqDiff(R,Cd,Cc)\n",
      "print FreqCm(R,Cd,Cc)"
     ],
     "language": "python",
     "metadata": {},
     "outputs": [
      {
       "output_type": "stream",
       "stream": "stdout",
       "text": [
        "5002.51274845\n",
        "105052.767717\n"
       ]
      }
     ],
     "prompt_number": 21
    },
    {
     "cell_type": "heading",
     "level": 5,
     "metadata": {},
     "source": []
    }
   ],
   "metadata": {}
  }
 ]
}